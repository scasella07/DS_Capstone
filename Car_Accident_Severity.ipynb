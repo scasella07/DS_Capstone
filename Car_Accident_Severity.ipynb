{
 "cells": [
  {
   "cell_type": "markdown",
   "metadata": {},
   "source": [
    "# Capstone Project - Car Accident Severity\n",
    "### Applied Data Science Capstone by IBM/Coursera\n",
    "\n",
    "\n",
    "## Table of contents\n",
    "* [Introduction: Business Problem](#introduction)\n",
    "* [Data](#data)\n",
    "* [Methodology](#methodology)\n",
    "* [Analysis](#analysis)\n",
    "* [Prediction](#prediction)\n",
    "* [Results and Evaluation](#results)\n",
    "* [Discussion](#discussion)\n",
    "* [Conclusion](#conclusion)\n"
   ]
  },
  {
   "cell_type": "markdown",
   "metadata": {},
   "source": [
    "## Introduction: Business Problem <a name=\"introduction\"></a>\n",
    "\n",
    "The area of Seattle, Washington is one of the largest seaport towns in the Western Washington state, with over 700,000 people living in one location. Along with a bustling economy and foot traffic, there’s no wonder why there are traffic accidents every day. According to Colburn Law's Website (2020), \"in 2015, a [car] crash occurred in the State of Washington every 4.5 minutes.” Several hundred individuals die on these roadways each year to where the local government wants to use data analysis to figure out the leading causes of these incidents, as well as to see if there are any predictable variables within these accidents that they can use to adjust their roadways and/or traffic flow.  \n",
    "\n",
    "In this Capstone project, I will attempt to find the leading factors to traffic accidents in the Seattle, Washinton Area. Specifically, this report will targeting the local Seatlle Government to provide more specific information about the **severity traffic accidents** in the city. More specifically, I will leverage the accident data that I found to **predict the different accidents' severity,** by building a **machine learning (ML) model to predict accident severity**, based on fatilities, traffic delays, and other related data.    \n",
    "\n",
    "I will use my best data science skills to recommend new policies for traffic laws for these government officials. Changes will be clearly expressed so that the best policies can be chosen by stakeholders.\n",
    "\n",
    "References\n",
    "Colburn Law (2020) 2019 Washington State Car Accident and Statistics & Reports. https://www.colburnlaw.com/seattle-traffic-accidents/\n"
   ]
  },
  {
   "cell_type": "markdown",
   "metadata": {},
   "source": [
    "## Data <a name=\"data\"></a>\n",
    "After obtaining a greater understanding of the issues with traffic accidents in the Seattle, Washington area, I decided to use the sample **\"Data-Collisions.csv\"** file, provided by *IBM Watson* to assist in the the prediction of traffic accidents' severity. The data included contain accident records in Seattle of a date range from 01January2004 to 02May2020. In the data set, there are 194673 events. \n",
    "\n",
    "Based on definition of our problem, factors that will influence decisions makers are the following:\n",
    "* Number of pedestrians in the various mediums (e.g., in vehicles, bicycles, walking, etc.)\n",
    "* Number of vehicles involved\n",
    "* Other environmental factors of contribution (e.g., weather, road conditions, lighting)\n",
    "* Along with the severity level of the accident \n",
    "\n",
    "As a result, the following attributes will be analyzed:\n",
    "* The target for prediction being **SEVERITYCODE**, as that is what is used to measure the severity of the accident. This column has two possible values, as follows: \n",
    "** 1 - Property Damage\n",
    "** 2 - Injury\n",
    "* The features that will be used to predict the severity level are the following:\n",
    "** PEDCOUNT\n",
    "** PEDCYLCOUNT\n",
    "** VEHCOUNT\n",
    "** WEATHER\n",
    "** ROADCOND\n",
    "** LIGHTCOND\n",
    "** and the newly created 'Seattle Seasons'\n",
    "\n",
    "* Note: Some of these items are categorial and will need to be changed so that the ML models can handle these items. \n",
    "\n",
    "\n",
    "Following data sources will be needed to generate the required information:\n",
    "* Seasons of the year for Seattle obtained using a **Google search of \"Seattle, Washington Seasons\"** \n",
    "\n"
   ]
  },
  {
   "cell_type": "code",
   "execution_count": 1,
   "metadata": {},
   "outputs": [
    {
     "name": "stdout",
     "output_type": "stream",
     "text": [
      "Import Complete\n",
      "Directory Creation Complete\n"
     ]
    }
   ],
   "source": [
    "# Import packages needed for the notebook\n",
    "import pandas as pd\n",
    "import numpy as np\n",
    "import csv\n",
    "import os\n",
    "import datetime as dt\n",
    "%matplotlib inline \n",
    "import matplotlib as mpl\n",
    "import matplotlib.pyplot as plt\n",
    "import seaborn as sns\n",
    "\n",
    "print('Import Complete')\n",
    "\n",
    "#Create directory for graph save:\n",
    "mydir = 'Car_Accident_Charts'\n",
    "if not os.path.isdir(mydir):\n",
    "    os.mkdir(mydir)\n",
    "print('Directory Creation Complete')"
   ]
  },
  {
   "cell_type": "code",
   "execution_count": 2,
   "metadata": {},
   "outputs": [
    {
     "name": "stderr",
     "output_type": "stream",
     "text": [
      "/home/jupyterlab/conda/envs/python/lib/python3.6/site-packages/IPython/core/interactiveshell.py:3072: DtypeWarning: Columns (33) have mixed types.Specify dtype option on import or set low_memory=False.\n",
      "  interactivity=interactivity, compiler=compiler, result=result)\n"
     ]
    }
   ],
   "source": [
    "#Upload sample data for analysis. This includes the setting of display.max_columns to see all of the columns in the data set. \n",
    "pd.set_option('display.max_columns', None)\n",
    "df1 = pd.read_csv('Data-Collisions.csv')"
   ]
  },
  {
   "cell_type": "code",
   "execution_count": 3,
   "metadata": {},
   "outputs": [],
   "source": [
    "#Make a copy of the data frame for editing\n",
    "df = df1.copy()"
   ]
  },
  {
   "cell_type": "code",
   "execution_count": 4,
   "metadata": {},
   "outputs": [
    {
     "name": "stdout",
     "output_type": "stream",
     "text": [
      "The following are the descriptive stats of the dataframe: \n",
      "\t Data Shape: (194673, 38)\n",
      "\n",
      "\t Data columns: Index(['SEVERITYCODE', 'X', 'Y', 'OBJECTID', 'INCKEY', 'COLDETKEY', 'REPORTNO',\n",
      "       'STATUS', 'ADDRTYPE', 'INTKEY', 'LOCATION', 'EXCEPTRSNCODE',\n",
      "       'EXCEPTRSNDESC', 'SEVERITYCODE.1', 'SEVERITYDESC', 'COLLISIONTYPE',\n",
      "       'PERSONCOUNT', 'PEDCOUNT', 'PEDCYLCOUNT', 'VEHCOUNT', 'INCDATE',\n",
      "       'INCDTTM', 'JUNCTIONTYPE', 'SDOT_COLCODE', 'SDOT_COLDESC',\n",
      "       'INATTENTIONIND', 'UNDERINFL', 'WEATHER', 'ROADCOND', 'LIGHTCOND',\n",
      "       'PEDROWNOTGRNT', 'SDOTCOLNUM', 'SPEEDING', 'ST_COLCODE', 'ST_COLDESC',\n",
      "       'SEGLANEKEY', 'CROSSWALKKEY', 'HITPARKEDCAR'],\n",
      "      dtype='object')\n",
      "\n",
      "\t Descriptive Statistics: <bound method NDFrame.describe of         SEVERITYCODE           X          Y  OBJECTID  INCKEY  COLDETKEY  \\\n",
      "0                  2 -122.323148  47.703140         1    1307       1307   \n",
      "1                  1 -122.347294  47.647172         2   52200      52200   \n",
      "2                  1 -122.334540  47.607871         3   26700      26700   \n",
      "3                  1 -122.334803  47.604803         4    1144       1144   \n",
      "4                  2 -122.306426  47.545739         5   17700      17700   \n",
      "...              ...         ...        ...       ...     ...        ...   \n",
      "194668             2 -122.290826  47.565408    219543  309534     310814   \n",
      "194669             1 -122.344526  47.690924    219544  309085     310365   \n",
      "194670             2 -122.306689  47.683047    219545  311280     312640   \n",
      "194671             2 -122.355317  47.678734    219546  309514     310794   \n",
      "194672             1 -122.289360  47.611017    219547  308220     309500   \n",
      "\n",
      "       REPORTNO   STATUS      ADDRTYPE   INTKEY  \\\n",
      "0       3502005  Matched  Intersection  37475.0   \n",
      "1       2607959  Matched         Block      NaN   \n",
      "2       1482393  Matched         Block      NaN   \n",
      "3       3503937  Matched         Block      NaN   \n",
      "4       1807429  Matched  Intersection  34387.0   \n",
      "...         ...      ...           ...      ...   \n",
      "194668  E871089  Matched         Block      NaN   \n",
      "194669  E876731  Matched         Block      NaN   \n",
      "194670  3809984  Matched  Intersection  24760.0   \n",
      "194671  3810083  Matched  Intersection  24349.0   \n",
      "194672  E868008  Matched         Block      NaN   \n",
      "\n",
      "                                               LOCATION EXCEPTRSNCODE  \\\n",
      "0                            5TH AVE NE AND NE 103RD ST                 \n",
      "1            AURORA BR BETWEEN RAYE ST AND BRIDGE WAY N           NaN   \n",
      "2           4TH AVE BETWEEN SENECA ST AND UNIVERSITY ST           NaN   \n",
      "3              2ND AVE BETWEEN MARION ST AND MADISON ST                 \n",
      "4                       SWIFT AVE S AND SWIFT AV OFF RP           NaN   \n",
      "...                                                 ...           ...   \n",
      "194668  34TH AVE S BETWEEN S DAKOTA ST AND S GENESEE ST                 \n",
      "194669     AURORA AVE N BETWEEN N 85TH ST AND N 86TH ST                 \n",
      "194670                       20TH AVE NE AND NE 75TH ST                 \n",
      "194671                    GREENWOOD AVE N AND N 68TH ST                 \n",
      "194672     34TH AVE BETWEEN E MARION ST AND E SPRING ST                 \n",
      "\n",
      "       EXCEPTRSNDESC  SEVERITYCODE.1                    SEVERITYDESC  \\\n",
      "0                NaN               2                Injury Collision   \n",
      "1                NaN               1  Property Damage Only Collision   \n",
      "2                NaN               1  Property Damage Only Collision   \n",
      "3                NaN               1  Property Damage Only Collision   \n",
      "4                NaN               2                Injury Collision   \n",
      "...              ...             ...                             ...   \n",
      "194668           NaN               2                Injury Collision   \n",
      "194669           NaN               1  Property Damage Only Collision   \n",
      "194670           NaN               2                Injury Collision   \n",
      "194671           NaN               2                Injury Collision   \n",
      "194672           NaN               1  Property Damage Only Collision   \n",
      "\n",
      "       COLLISIONTYPE  PERSONCOUNT  PEDCOUNT  PEDCYLCOUNT  VEHCOUNT  \\\n",
      "0             Angles            2         0            0         2   \n",
      "1          Sideswipe            2         0            0         2   \n",
      "2         Parked Car            4         0            0         3   \n",
      "3              Other            3         0            0         3   \n",
      "4             Angles            2         0            0         2   \n",
      "...              ...          ...       ...          ...       ...   \n",
      "194668       Head On            3         0            0         2   \n",
      "194669    Rear Ended            2         0            0         2   \n",
      "194670     Left Turn            3         0            0         2   \n",
      "194671        Cycles            2         0            1         1   \n",
      "194672    Rear Ended            2         0            0         2   \n",
      "\n",
      "                       INCDATE                 INCDTTM  \\\n",
      "0       2013/03/27 00:00:00+00    3/27/2013 2:54:00 PM   \n",
      "1       2006/12/20 00:00:00+00   12/20/2006 6:55:00 PM   \n",
      "2       2004/11/18 00:00:00+00  11/18/2004 10:20:00 AM   \n",
      "3       2013/03/29 00:00:00+00    3/29/2013 9:26:00 AM   \n",
      "4       2004/01/28 00:00:00+00    1/28/2004 8:04:00 AM   \n",
      "...                        ...                     ...   \n",
      "194668  2018/11/12 00:00:00+00   11/12/2018 8:12:00 AM   \n",
      "194669  2018/12/18 00:00:00+00   12/18/2018 9:14:00 AM   \n",
      "194670  2019/01/19 00:00:00+00    1/19/2019 9:25:00 AM   \n",
      "194671  2019/01/15 00:00:00+00    1/15/2019 4:48:00 PM   \n",
      "194672  2018/11/30 00:00:00+00   11/30/2018 3:45:00 PM   \n",
      "\n",
      "                                   JUNCTIONTYPE  SDOT_COLCODE  \\\n",
      "0        At Intersection (intersection related)            11   \n",
      "1       Mid-Block (not related to intersection)            16   \n",
      "2       Mid-Block (not related to intersection)            14   \n",
      "3       Mid-Block (not related to intersection)            11   \n",
      "4        At Intersection (intersection related)            11   \n",
      "...                                         ...           ...   \n",
      "194668  Mid-Block (not related to intersection)            11   \n",
      "194669  Mid-Block (not related to intersection)            14   \n",
      "194670   At Intersection (intersection related)            11   \n",
      "194671   At Intersection (intersection related)            51   \n",
      "194672  Mid-Block (not related to intersection)            14   \n",
      "\n",
      "                                             SDOT_COLDESC INATTENTIONIND  \\\n",
      "0       MOTOR VEHICLE STRUCK MOTOR VEHICLE, FRONT END ...            NaN   \n",
      "1       MOTOR VEHICLE STRUCK MOTOR VEHICLE, LEFT SIDE ...            NaN   \n",
      "2            MOTOR VEHICLE STRUCK MOTOR VEHICLE, REAR END            NaN   \n",
      "3       MOTOR VEHICLE STRUCK MOTOR VEHICLE, FRONT END ...            NaN   \n",
      "4       MOTOR VEHICLE STRUCK MOTOR VEHICLE, FRONT END ...            NaN   \n",
      "...                                                   ...            ...   \n",
      "194668  MOTOR VEHICLE STRUCK MOTOR VEHICLE, FRONT END ...            NaN   \n",
      "194669       MOTOR VEHICLE STRUCK MOTOR VEHICLE, REAR END              Y   \n",
      "194670  MOTOR VEHICLE STRUCK MOTOR VEHICLE, FRONT END ...            NaN   \n",
      "194671  PEDALCYCLIST STRUCK MOTOR VEHICLE FRONT END AT...            NaN   \n",
      "194672       MOTOR VEHICLE STRUCK MOTOR VEHICLE, REAR END            NaN   \n",
      "\n",
      "       UNDERINFL   WEATHER ROADCOND                LIGHTCOND PEDROWNOTGRNT  \\\n",
      "0              N  Overcast      Wet                 Daylight           NaN   \n",
      "1              0   Raining      Wet  Dark - Street Lights On           NaN   \n",
      "2              0  Overcast      Dry                 Daylight           NaN   \n",
      "3              N     Clear      Dry                 Daylight           NaN   \n",
      "4              0   Raining      Wet                 Daylight           NaN   \n",
      "...          ...       ...      ...                      ...           ...   \n",
      "194668         N     Clear      Dry                 Daylight           NaN   \n",
      "194669         N   Raining      Wet                 Daylight           NaN   \n",
      "194670         N     Clear      Dry                 Daylight           NaN   \n",
      "194671         N     Clear      Dry                     Dusk           NaN   \n",
      "194672         N     Clear      Wet                 Daylight           NaN   \n",
      "\n",
      "        SDOTCOLNUM SPEEDING ST_COLCODE  \\\n",
      "0              NaN      NaN         10   \n",
      "1        6354039.0      NaN         11   \n",
      "2        4323031.0      NaN         32   \n",
      "3              NaN      NaN         23   \n",
      "4        4028032.0      NaN         10   \n",
      "...            ...      ...        ...   \n",
      "194668         NaN      NaN         24   \n",
      "194669         NaN      NaN         13   \n",
      "194670         NaN      NaN         28   \n",
      "194671         NaN      NaN          5   \n",
      "194672         NaN      NaN         14   \n",
      "\n",
      "                                               ST_COLDESC  SEGLANEKEY  \\\n",
      "0                                       Entering at angle           0   \n",
      "1       From same direction - both going straight - bo...           0   \n",
      "2                                  One parked--one moving           0   \n",
      "3                        From same direction - all others           0   \n",
      "4                                       Entering at angle           0   \n",
      "...                                                   ...         ...   \n",
      "194668    From opposite direction - both moving - head-on           0   \n",
      "194669  From same direction - both going straight - bo...           0   \n",
      "194670  From opposite direction - one left turn - one ...           0   \n",
      "194671                       Vehicle Strikes Pedalcyclist        4308   \n",
      "194672  From same direction - both going straight - on...           0   \n",
      "\n",
      "        CROSSWALKKEY HITPARKEDCAR  \n",
      "0                  0            N  \n",
      "1                  0            N  \n",
      "2                  0            N  \n",
      "3                  0            N  \n",
      "4                  0            N  \n",
      "...              ...          ...  \n",
      "194668             0            N  \n",
      "194669             0            N  \n",
      "194670             0            N  \n",
      "194671             0            N  \n",
      "194672             0            N  \n",
      "\n",
      "[194673 rows x 38 columns]>\n",
      "\n",
      "\t Data Types: SEVERITYCODE        int64\n",
      "X                 float64\n",
      "Y                 float64\n",
      "OBJECTID            int64\n",
      "INCKEY              int64\n",
      "COLDETKEY           int64\n",
      "REPORTNO           object\n",
      "STATUS             object\n",
      "ADDRTYPE           object\n",
      "INTKEY            float64\n",
      "LOCATION           object\n",
      "EXCEPTRSNCODE      object\n",
      "EXCEPTRSNDESC      object\n",
      "SEVERITYCODE.1      int64\n",
      "SEVERITYDESC       object\n",
      "COLLISIONTYPE      object\n",
      "PERSONCOUNT         int64\n",
      "PEDCOUNT            int64\n",
      "PEDCYLCOUNT         int64\n",
      "VEHCOUNT            int64\n",
      "INCDATE            object\n",
      "INCDTTM            object\n",
      "JUNCTIONTYPE       object\n",
      "SDOT_COLCODE        int64\n",
      "SDOT_COLDESC       object\n",
      "INATTENTIONIND     object\n",
      "UNDERINFL          object\n",
      "WEATHER            object\n",
      "ROADCOND           object\n",
      "LIGHTCOND          object\n",
      "PEDROWNOTGRNT      object\n",
      "SDOTCOLNUM        float64\n",
      "SPEEDING           object\n",
      "ST_COLCODE         object\n",
      "ST_COLDESC         object\n",
      "SEGLANEKEY          int64\n",
      "CROSSWALKKEY        int64\n",
      "HITPARKEDCAR       object\n",
      "dtype: object\n",
      "\n"
     ]
    }
   ],
   "source": [
    "#Obtain basic statistics about the data set\n",
    "data_info  = 'The following are the descriptive stats of the dataframe: \\n'\n",
    "data_info += '\\t Data Shape: ' + str(df.shape) + '\\n'\n",
    "data_info += '\\n'\n",
    "data_info += '\\t Data columns: ' + str(df.columns) + '\\n'\n",
    "data_info += '\\n'\n",
    "data_info += '\\t Descriptive Statistics: ' + str(df.describe) + '\\n'\n",
    "data_info += '\\n'\n",
    "data_info += '\\t Data Types: ' + str(df.dtypes) + '\\n'\n",
    "print(data_info)"
   ]
  },
  {
   "cell_type": "code",
   "execution_count": 6,
   "metadata": {},
   "outputs": [
    {
     "data": {
      "text/html": [
       "<div>\n",
       "<style scoped>\n",
       "    .dataframe tbody tr th:only-of-type {\n",
       "        vertical-align: middle;\n",
       "    }\n",
       "\n",
       "    .dataframe tbody tr th {\n",
       "        vertical-align: top;\n",
       "    }\n",
       "\n",
       "    .dataframe thead th {\n",
       "        text-align: right;\n",
       "    }\n",
       "</style>\n",
       "<table border=\"1\" class=\"dataframe\">\n",
       "  <thead>\n",
       "    <tr style=\"text-align: right;\">\n",
       "      <th></th>\n",
       "      <th>SEVERITYCODE</th>\n",
       "      <th>X</th>\n",
       "      <th>Y</th>\n",
       "      <th>OBJECTID</th>\n",
       "      <th>INCKEY</th>\n",
       "      <th>COLDETKEY</th>\n",
       "      <th>REPORTNO</th>\n",
       "      <th>STATUS</th>\n",
       "      <th>ADDRTYPE</th>\n",
       "      <th>INTKEY</th>\n",
       "      <th>LOCATION</th>\n",
       "      <th>EXCEPTRSNCODE</th>\n",
       "      <th>EXCEPTRSNDESC</th>\n",
       "      <th>SEVERITYCODE.1</th>\n",
       "      <th>SEVERITYDESC</th>\n",
       "      <th>COLLISIONTYPE</th>\n",
       "      <th>PERSONCOUNT</th>\n",
       "      <th>PEDCOUNT</th>\n",
       "      <th>PEDCYLCOUNT</th>\n",
       "      <th>VEHCOUNT</th>\n",
       "      <th>INCDATE</th>\n",
       "      <th>INCDTTM</th>\n",
       "      <th>JUNCTIONTYPE</th>\n",
       "      <th>SDOT_COLCODE</th>\n",
       "      <th>SDOT_COLDESC</th>\n",
       "      <th>INATTENTIONIND</th>\n",
       "      <th>UNDERINFL</th>\n",
       "      <th>WEATHER</th>\n",
       "      <th>ROADCOND</th>\n",
       "      <th>LIGHTCOND</th>\n",
       "      <th>PEDROWNOTGRNT</th>\n",
       "      <th>SDOTCOLNUM</th>\n",
       "      <th>SPEEDING</th>\n",
       "      <th>ST_COLCODE</th>\n",
       "      <th>ST_COLDESC</th>\n",
       "      <th>SEGLANEKEY</th>\n",
       "      <th>CROSSWALKKEY</th>\n",
       "      <th>HITPARKEDCAR</th>\n",
       "    </tr>\n",
       "  </thead>\n",
       "  <tbody>\n",
       "    <tr>\n",
       "      <th>0</th>\n",
       "      <td>2</td>\n",
       "      <td>-122.323148</td>\n",
       "      <td>47.703140</td>\n",
       "      <td>1</td>\n",
       "      <td>1307</td>\n",
       "      <td>1307</td>\n",
       "      <td>3502005</td>\n",
       "      <td>Matched</td>\n",
       "      <td>Intersection</td>\n",
       "      <td>37475.0</td>\n",
       "      <td>5TH AVE NE AND NE 103RD ST</td>\n",
       "      <td></td>\n",
       "      <td>NaN</td>\n",
       "      <td>2</td>\n",
       "      <td>Injury Collision</td>\n",
       "      <td>Angles</td>\n",
       "      <td>2</td>\n",
       "      <td>0</td>\n",
       "      <td>0</td>\n",
       "      <td>2</td>\n",
       "      <td>2013/03/27 00:00:00+00</td>\n",
       "      <td>3/27/2013 2:54:00 PM</td>\n",
       "      <td>At Intersection (intersection related)</td>\n",
       "      <td>11</td>\n",
       "      <td>MOTOR VEHICLE STRUCK MOTOR VEHICLE, FRONT END ...</td>\n",
       "      <td>NaN</td>\n",
       "      <td>N</td>\n",
       "      <td>Overcast</td>\n",
       "      <td>Wet</td>\n",
       "      <td>Daylight</td>\n",
       "      <td>NaN</td>\n",
       "      <td>NaN</td>\n",
       "      <td>NaN</td>\n",
       "      <td>10</td>\n",
       "      <td>Entering at angle</td>\n",
       "      <td>0</td>\n",
       "      <td>0</td>\n",
       "      <td>N</td>\n",
       "    </tr>\n",
       "    <tr>\n",
       "      <th>1</th>\n",
       "      <td>1</td>\n",
       "      <td>-122.347294</td>\n",
       "      <td>47.647172</td>\n",
       "      <td>2</td>\n",
       "      <td>52200</td>\n",
       "      <td>52200</td>\n",
       "      <td>2607959</td>\n",
       "      <td>Matched</td>\n",
       "      <td>Block</td>\n",
       "      <td>NaN</td>\n",
       "      <td>AURORA BR BETWEEN RAYE ST AND BRIDGE WAY N</td>\n",
       "      <td>NaN</td>\n",
       "      <td>NaN</td>\n",
       "      <td>1</td>\n",
       "      <td>Property Damage Only Collision</td>\n",
       "      <td>Sideswipe</td>\n",
       "      <td>2</td>\n",
       "      <td>0</td>\n",
       "      <td>0</td>\n",
       "      <td>2</td>\n",
       "      <td>2006/12/20 00:00:00+00</td>\n",
       "      <td>12/20/2006 6:55:00 PM</td>\n",
       "      <td>Mid-Block (not related to intersection)</td>\n",
       "      <td>16</td>\n",
       "      <td>MOTOR VEHICLE STRUCK MOTOR VEHICLE, LEFT SIDE ...</td>\n",
       "      <td>NaN</td>\n",
       "      <td>0</td>\n",
       "      <td>Raining</td>\n",
       "      <td>Wet</td>\n",
       "      <td>Dark - Street Lights On</td>\n",
       "      <td>NaN</td>\n",
       "      <td>6354039.0</td>\n",
       "      <td>NaN</td>\n",
       "      <td>11</td>\n",
       "      <td>From same direction - both going straight - bo...</td>\n",
       "      <td>0</td>\n",
       "      <td>0</td>\n",
       "      <td>N</td>\n",
       "    </tr>\n",
       "    <tr>\n",
       "      <th>2</th>\n",
       "      <td>1</td>\n",
       "      <td>-122.334540</td>\n",
       "      <td>47.607871</td>\n",
       "      <td>3</td>\n",
       "      <td>26700</td>\n",
       "      <td>26700</td>\n",
       "      <td>1482393</td>\n",
       "      <td>Matched</td>\n",
       "      <td>Block</td>\n",
       "      <td>NaN</td>\n",
       "      <td>4TH AVE BETWEEN SENECA ST AND UNIVERSITY ST</td>\n",
       "      <td>NaN</td>\n",
       "      <td>NaN</td>\n",
       "      <td>1</td>\n",
       "      <td>Property Damage Only Collision</td>\n",
       "      <td>Parked Car</td>\n",
       "      <td>4</td>\n",
       "      <td>0</td>\n",
       "      <td>0</td>\n",
       "      <td>3</td>\n",
       "      <td>2004/11/18 00:00:00+00</td>\n",
       "      <td>11/18/2004 10:20:00 AM</td>\n",
       "      <td>Mid-Block (not related to intersection)</td>\n",
       "      <td>14</td>\n",
       "      <td>MOTOR VEHICLE STRUCK MOTOR VEHICLE, REAR END</td>\n",
       "      <td>NaN</td>\n",
       "      <td>0</td>\n",
       "      <td>Overcast</td>\n",
       "      <td>Dry</td>\n",
       "      <td>Daylight</td>\n",
       "      <td>NaN</td>\n",
       "      <td>4323031.0</td>\n",
       "      <td>NaN</td>\n",
       "      <td>32</td>\n",
       "      <td>One parked--one moving</td>\n",
       "      <td>0</td>\n",
       "      <td>0</td>\n",
       "      <td>N</td>\n",
       "    </tr>\n",
       "  </tbody>\n",
       "</table>\n",
       "</div>"
      ],
      "text/plain": [
       "   SEVERITYCODE           X          Y  OBJECTID  INCKEY  COLDETKEY REPORTNO  \\\n",
       "0             2 -122.323148  47.703140         1    1307       1307  3502005   \n",
       "1             1 -122.347294  47.647172         2   52200      52200  2607959   \n",
       "2             1 -122.334540  47.607871         3   26700      26700  1482393   \n",
       "\n",
       "    STATUS      ADDRTYPE   INTKEY  \\\n",
       "0  Matched  Intersection  37475.0   \n",
       "1  Matched         Block      NaN   \n",
       "2  Matched         Block      NaN   \n",
       "\n",
       "                                      LOCATION EXCEPTRSNCODE EXCEPTRSNDESC  \\\n",
       "0                   5TH AVE NE AND NE 103RD ST                         NaN   \n",
       "1   AURORA BR BETWEEN RAYE ST AND BRIDGE WAY N           NaN           NaN   \n",
       "2  4TH AVE BETWEEN SENECA ST AND UNIVERSITY ST           NaN           NaN   \n",
       "\n",
       "   SEVERITYCODE.1                    SEVERITYDESC COLLISIONTYPE  PERSONCOUNT  \\\n",
       "0               2                Injury Collision        Angles            2   \n",
       "1               1  Property Damage Only Collision     Sideswipe            2   \n",
       "2               1  Property Damage Only Collision    Parked Car            4   \n",
       "\n",
       "   PEDCOUNT  PEDCYLCOUNT  VEHCOUNT                 INCDATE  \\\n",
       "0         0            0         2  2013/03/27 00:00:00+00   \n",
       "1         0            0         2  2006/12/20 00:00:00+00   \n",
       "2         0            0         3  2004/11/18 00:00:00+00   \n",
       "\n",
       "                  INCDTTM                             JUNCTIONTYPE  \\\n",
       "0    3/27/2013 2:54:00 PM   At Intersection (intersection related)   \n",
       "1   12/20/2006 6:55:00 PM  Mid-Block (not related to intersection)   \n",
       "2  11/18/2004 10:20:00 AM  Mid-Block (not related to intersection)   \n",
       "\n",
       "   SDOT_COLCODE                                       SDOT_COLDESC  \\\n",
       "0            11  MOTOR VEHICLE STRUCK MOTOR VEHICLE, FRONT END ...   \n",
       "1            16  MOTOR VEHICLE STRUCK MOTOR VEHICLE, LEFT SIDE ...   \n",
       "2            14       MOTOR VEHICLE STRUCK MOTOR VEHICLE, REAR END   \n",
       "\n",
       "  INATTENTIONIND UNDERINFL   WEATHER ROADCOND                LIGHTCOND  \\\n",
       "0            NaN         N  Overcast      Wet                 Daylight   \n",
       "1            NaN         0   Raining      Wet  Dark - Street Lights On   \n",
       "2            NaN         0  Overcast      Dry                 Daylight   \n",
       "\n",
       "  PEDROWNOTGRNT  SDOTCOLNUM SPEEDING ST_COLCODE  \\\n",
       "0           NaN         NaN      NaN         10   \n",
       "1           NaN   6354039.0      NaN         11   \n",
       "2           NaN   4323031.0      NaN         32   \n",
       "\n",
       "                                          ST_COLDESC  SEGLANEKEY  \\\n",
       "0                                  Entering at angle           0   \n",
       "1  From same direction - both going straight - bo...           0   \n",
       "2                             One parked--one moving           0   \n",
       "\n",
       "   CROSSWALKKEY HITPARKEDCAR  \n",
       "0             0            N  \n",
       "1             0            N  \n",
       "2             0            N  "
      ]
     },
     "execution_count": 6,
     "metadata": {},
     "output_type": "execute_result"
    }
   ],
   "source": [
    "# View the first 3 rows of the data frame\n",
    "df[:3]"
   ]
  },
  {
   "cell_type": "markdown",
   "metadata": {},
   "source": [
    "Now, lets reduce the data set to the columns really needed for analysis. \n",
    "\n",
    "## Methodology <a name=\"methodology\"></a>"
   ]
  },
  {
   "cell_type": "code",
   "execution_count": 8,
   "metadata": {},
   "outputs": [
    {
     "data": {
      "text/html": [
       "<div>\n",
       "<style scoped>\n",
       "    .dataframe tbody tr th:only-of-type {\n",
       "        vertical-align: middle;\n",
       "    }\n",
       "\n",
       "    .dataframe tbody tr th {\n",
       "        vertical-align: top;\n",
       "    }\n",
       "\n",
       "    .dataframe thead th {\n",
       "        text-align: right;\n",
       "    }\n",
       "</style>\n",
       "<table border=\"1\" class=\"dataframe\">\n",
       "  <thead>\n",
       "    <tr style=\"text-align: right;\">\n",
       "      <th></th>\n",
       "      <th>SEVERITYCODE</th>\n",
       "      <th>INCDTTM</th>\n",
       "      <th>PERSONCOUNT</th>\n",
       "      <th>PEDCOUNT</th>\n",
       "      <th>PEDCYLCOUNT</th>\n",
       "      <th>VEHCOUNT</th>\n",
       "      <th>WEATHER</th>\n",
       "      <th>ROADCOND</th>\n",
       "      <th>LIGHTCOND</th>\n",
       "    </tr>\n",
       "  </thead>\n",
       "  <tbody>\n",
       "    <tr>\n",
       "      <th>0</th>\n",
       "      <td>2</td>\n",
       "      <td>3/27/2013 2:54:00 PM</td>\n",
       "      <td>2</td>\n",
       "      <td>0</td>\n",
       "      <td>0</td>\n",
       "      <td>2</td>\n",
       "      <td>Overcast</td>\n",
       "      <td>Wet</td>\n",
       "      <td>Daylight</td>\n",
       "    </tr>\n",
       "    <tr>\n",
       "      <th>1</th>\n",
       "      <td>1</td>\n",
       "      <td>12/20/2006 6:55:00 PM</td>\n",
       "      <td>2</td>\n",
       "      <td>0</td>\n",
       "      <td>0</td>\n",
       "      <td>2</td>\n",
       "      <td>Raining</td>\n",
       "      <td>Wet</td>\n",
       "      <td>Dark - Street Lights On</td>\n",
       "    </tr>\n",
       "    <tr>\n",
       "      <th>2</th>\n",
       "      <td>1</td>\n",
       "      <td>11/18/2004 10:20:00 AM</td>\n",
       "      <td>4</td>\n",
       "      <td>0</td>\n",
       "      <td>0</td>\n",
       "      <td>3</td>\n",
       "      <td>Overcast</td>\n",
       "      <td>Dry</td>\n",
       "      <td>Daylight</td>\n",
       "    </tr>\n",
       "    <tr>\n",
       "      <th>3</th>\n",
       "      <td>1</td>\n",
       "      <td>3/29/2013 9:26:00 AM</td>\n",
       "      <td>3</td>\n",
       "      <td>0</td>\n",
       "      <td>0</td>\n",
       "      <td>3</td>\n",
       "      <td>Clear</td>\n",
       "      <td>Dry</td>\n",
       "      <td>Daylight</td>\n",
       "    </tr>\n",
       "    <tr>\n",
       "      <th>4</th>\n",
       "      <td>2</td>\n",
       "      <td>1/28/2004 8:04:00 AM</td>\n",
       "      <td>2</td>\n",
       "      <td>0</td>\n",
       "      <td>0</td>\n",
       "      <td>2</td>\n",
       "      <td>Raining</td>\n",
       "      <td>Wet</td>\n",
       "      <td>Daylight</td>\n",
       "    </tr>\n",
       "  </tbody>\n",
       "</table>\n",
       "</div>"
      ],
      "text/plain": [
       "   SEVERITYCODE                 INCDTTM  PERSONCOUNT  PEDCOUNT  PEDCYLCOUNT  \\\n",
       "0             2    3/27/2013 2:54:00 PM            2         0            0   \n",
       "1             1   12/20/2006 6:55:00 PM            2         0            0   \n",
       "2             1  11/18/2004 10:20:00 AM            4         0            0   \n",
       "3             1    3/29/2013 9:26:00 AM            3         0            0   \n",
       "4             2    1/28/2004 8:04:00 AM            2         0            0   \n",
       "\n",
       "   VEHCOUNT   WEATHER ROADCOND                LIGHTCOND  \n",
       "0         2  Overcast      Wet                 Daylight  \n",
       "1         2   Raining      Wet  Dark - Street Lights On  \n",
       "2         3  Overcast      Dry                 Daylight  \n",
       "3         3     Clear      Dry                 Daylight  \n",
       "4         2   Raining      Wet                 Daylight  "
      ]
     },
     "execution_count": 8,
     "metadata": {},
     "output_type": "execute_result"
    }
   ],
   "source": [
    "#Reduce the data frame to the intended columns for use in analysis\n",
    "col = ['SEVERITYCODE', 'INCDTTM','PERSONCOUNT', 'PEDCOUNT', 'PEDCYLCOUNT', 'VEHCOUNT',\n",
    "        'WEATHER', 'ROADCOND', 'LIGHTCOND']\n",
    "accidents = df[col]\n",
    "accidents[:5]"
   ]
  },
  {
   "cell_type": "markdown",
   "metadata": {},
   "source": [
    "Let's do some data cleaning. We need to remove any **null** or **NaN** values from our data, so that the ML algorithms behave correctly. "
   ]
  },
  {
   "cell_type": "code",
   "execution_count": 9,
   "metadata": {},
   "outputs": [
    {
     "data": {
      "text/plain": [
       "SEVERITYCODE       0\n",
       "INCDTTM            0\n",
       "PERSONCOUNT        0\n",
       "PEDCOUNT           0\n",
       "PEDCYLCOUNT        0\n",
       "VEHCOUNT           0\n",
       "WEATHER         5081\n",
       "ROADCOND        5012\n",
       "LIGHTCOND       5170\n",
       "dtype: int64"
      ]
     },
     "execution_count": 9,
     "metadata": {},
     "output_type": "execute_result"
    }
   ],
   "source": [
    "# Check for invalid values, such as Null or NaNs. \n",
    "accidents[col].isnull().sum()"
   ]
  },
  {
   "cell_type": "code",
   "execution_count": 10,
   "metadata": {},
   "outputs": [
    {
     "data": {
      "text/html": [
       "<div>\n",
       "<style scoped>\n",
       "    .dataframe tbody tr th:only-of-type {\n",
       "        vertical-align: middle;\n",
       "    }\n",
       "\n",
       "    .dataframe tbody tr th {\n",
       "        vertical-align: top;\n",
       "    }\n",
       "\n",
       "    .dataframe thead th {\n",
       "        text-align: right;\n",
       "    }\n",
       "</style>\n",
       "<table border=\"1\" class=\"dataframe\">\n",
       "  <thead>\n",
       "    <tr style=\"text-align: right;\">\n",
       "      <th></th>\n",
       "      <th>index</th>\n",
       "      <th>SEVERITYCODE</th>\n",
       "      <th>INCDTTM</th>\n",
       "      <th>PERSONCOUNT</th>\n",
       "      <th>PEDCOUNT</th>\n",
       "      <th>PEDCYLCOUNT</th>\n",
       "      <th>VEHCOUNT</th>\n",
       "      <th>WEATHER</th>\n",
       "      <th>ROADCOND</th>\n",
       "      <th>LIGHTCOND</th>\n",
       "    </tr>\n",
       "  </thead>\n",
       "  <tbody>\n",
       "    <tr>\n",
       "      <th>0</th>\n",
       "      <td>0</td>\n",
       "      <td>2</td>\n",
       "      <td>3/27/2013 2:54:00 PM</td>\n",
       "      <td>2</td>\n",
       "      <td>0</td>\n",
       "      <td>0</td>\n",
       "      <td>2</td>\n",
       "      <td>Overcast</td>\n",
       "      <td>Wet</td>\n",
       "      <td>Daylight</td>\n",
       "    </tr>\n",
       "    <tr>\n",
       "      <th>1</th>\n",
       "      <td>1</td>\n",
       "      <td>1</td>\n",
       "      <td>12/20/2006 6:55:00 PM</td>\n",
       "      <td>2</td>\n",
       "      <td>0</td>\n",
       "      <td>0</td>\n",
       "      <td>2</td>\n",
       "      <td>Raining</td>\n",
       "      <td>Wet</td>\n",
       "      <td>Dark - Street Lights On</td>\n",
       "    </tr>\n",
       "    <tr>\n",
       "      <th>2</th>\n",
       "      <td>2</td>\n",
       "      <td>1</td>\n",
       "      <td>11/18/2004 10:20:00 AM</td>\n",
       "      <td>4</td>\n",
       "      <td>0</td>\n",
       "      <td>0</td>\n",
       "      <td>3</td>\n",
       "      <td>Overcast</td>\n",
       "      <td>Dry</td>\n",
       "      <td>Daylight</td>\n",
       "    </tr>\n",
       "    <tr>\n",
       "      <th>3</th>\n",
       "      <td>3</td>\n",
       "      <td>1</td>\n",
       "      <td>3/29/2013 9:26:00 AM</td>\n",
       "      <td>3</td>\n",
       "      <td>0</td>\n",
       "      <td>0</td>\n",
       "      <td>3</td>\n",
       "      <td>Clear</td>\n",
       "      <td>Dry</td>\n",
       "      <td>Daylight</td>\n",
       "    </tr>\n",
       "    <tr>\n",
       "      <th>4</th>\n",
       "      <td>4</td>\n",
       "      <td>2</td>\n",
       "      <td>1/28/2004 8:04:00 AM</td>\n",
       "      <td>2</td>\n",
       "      <td>0</td>\n",
       "      <td>0</td>\n",
       "      <td>2</td>\n",
       "      <td>Raining</td>\n",
       "      <td>Wet</td>\n",
       "      <td>Daylight</td>\n",
       "    </tr>\n",
       "    <tr>\n",
       "      <th>...</th>\n",
       "      <td>...</td>\n",
       "      <td>...</td>\n",
       "      <td>...</td>\n",
       "      <td>...</td>\n",
       "      <td>...</td>\n",
       "      <td>...</td>\n",
       "      <td>...</td>\n",
       "      <td>...</td>\n",
       "      <td>...</td>\n",
       "      <td>...</td>\n",
       "    </tr>\n",
       "    <tr>\n",
       "      <th>189332</th>\n",
       "      <td>194668</td>\n",
       "      <td>2</td>\n",
       "      <td>11/12/2018 8:12:00 AM</td>\n",
       "      <td>3</td>\n",
       "      <td>0</td>\n",
       "      <td>0</td>\n",
       "      <td>2</td>\n",
       "      <td>Clear</td>\n",
       "      <td>Dry</td>\n",
       "      <td>Daylight</td>\n",
       "    </tr>\n",
       "    <tr>\n",
       "      <th>189333</th>\n",
       "      <td>194669</td>\n",
       "      <td>1</td>\n",
       "      <td>12/18/2018 9:14:00 AM</td>\n",
       "      <td>2</td>\n",
       "      <td>0</td>\n",
       "      <td>0</td>\n",
       "      <td>2</td>\n",
       "      <td>Raining</td>\n",
       "      <td>Wet</td>\n",
       "      <td>Daylight</td>\n",
       "    </tr>\n",
       "    <tr>\n",
       "      <th>189334</th>\n",
       "      <td>194670</td>\n",
       "      <td>2</td>\n",
       "      <td>1/19/2019 9:25:00 AM</td>\n",
       "      <td>3</td>\n",
       "      <td>0</td>\n",
       "      <td>0</td>\n",
       "      <td>2</td>\n",
       "      <td>Clear</td>\n",
       "      <td>Dry</td>\n",
       "      <td>Daylight</td>\n",
       "    </tr>\n",
       "    <tr>\n",
       "      <th>189335</th>\n",
       "      <td>194671</td>\n",
       "      <td>2</td>\n",
       "      <td>1/15/2019 4:48:00 PM</td>\n",
       "      <td>2</td>\n",
       "      <td>0</td>\n",
       "      <td>1</td>\n",
       "      <td>1</td>\n",
       "      <td>Clear</td>\n",
       "      <td>Dry</td>\n",
       "      <td>Dusk</td>\n",
       "    </tr>\n",
       "    <tr>\n",
       "      <th>189336</th>\n",
       "      <td>194672</td>\n",
       "      <td>1</td>\n",
       "      <td>11/30/2018 3:45:00 PM</td>\n",
       "      <td>2</td>\n",
       "      <td>0</td>\n",
       "      <td>0</td>\n",
       "      <td>2</td>\n",
       "      <td>Clear</td>\n",
       "      <td>Wet</td>\n",
       "      <td>Daylight</td>\n",
       "    </tr>\n",
       "  </tbody>\n",
       "</table>\n",
       "<p>189337 rows × 10 columns</p>\n",
       "</div>"
      ],
      "text/plain": [
       "         index  SEVERITYCODE                 INCDTTM  PERSONCOUNT  PEDCOUNT  \\\n",
       "0            0             2    3/27/2013 2:54:00 PM            2         0   \n",
       "1            1             1   12/20/2006 6:55:00 PM            2         0   \n",
       "2            2             1  11/18/2004 10:20:00 AM            4         0   \n",
       "3            3             1    3/29/2013 9:26:00 AM            3         0   \n",
       "4            4             2    1/28/2004 8:04:00 AM            2         0   \n",
       "...        ...           ...                     ...          ...       ...   \n",
       "189332  194668             2   11/12/2018 8:12:00 AM            3         0   \n",
       "189333  194669             1   12/18/2018 9:14:00 AM            2         0   \n",
       "189334  194670             2    1/19/2019 9:25:00 AM            3         0   \n",
       "189335  194671             2    1/15/2019 4:48:00 PM            2         0   \n",
       "189336  194672             1   11/30/2018 3:45:00 PM            2         0   \n",
       "\n",
       "        PEDCYLCOUNT  VEHCOUNT   WEATHER ROADCOND                LIGHTCOND  \n",
       "0                 0         2  Overcast      Wet                 Daylight  \n",
       "1                 0         2   Raining      Wet  Dark - Street Lights On  \n",
       "2                 0         3  Overcast      Dry                 Daylight  \n",
       "3                 0         3     Clear      Dry                 Daylight  \n",
       "4                 0         2   Raining      Wet                 Daylight  \n",
       "...             ...       ...       ...      ...                      ...  \n",
       "189332            0         2     Clear      Dry                 Daylight  \n",
       "189333            0         2   Raining      Wet                 Daylight  \n",
       "189334            0         2     Clear      Dry                 Daylight  \n",
       "189335            1         1     Clear      Dry                     Dusk  \n",
       "189336            0         2     Clear      Wet                 Daylight  \n",
       "\n",
       "[189337 rows x 10 columns]"
      ]
     },
     "execution_count": 10,
     "metadata": {},
     "output_type": "execute_result"
    }
   ],
   "source": [
    "# Drop the rows that have null or NaN values. Then, reset the indexes\n",
    "accidents = accidents.dropna()\n",
    "accidents = accidents.reset_index()\n",
    "accidents"
   ]
  },
  {
   "cell_type": "markdown",
   "metadata": {},
   "source": [
    "After review of the documentation for the data set, the columns of interest here for possible predictive value for **SEVERITYCODE** are the following:\n",
    "* WEATHER\n",
    "* ROADCOND\n",
    "* LIGHTCOND\n",
    "\n",
    "Great, we can move forward! Or, not so much. There are still columns with categorical data in them, but ML algorithms need numbers instead. Oh boy, there's still data cleaning to do. \n",
    "\n",
    "First, lets get a better understanding of what is actually inside the **WEATHER**, **ROADCOND** and **LIGHTCOND** columns."
   ]
  },
  {
   "cell_type": "code",
   "execution_count": 13,
   "metadata": {},
   "outputs": [],
   "source": [
    "def create_barh_plot(df, title, save, color):\n",
    "    plt.figure(figsize=(15,7))\n",
    "    ax = df.plot(kind='barh', color = color )\n",
    "    plt.xlabel('Counts')\n",
    "    plt.ylabel('Types')\n",
    "    ax.xaxis.label.set_fontsize(18)\n",
    "    ax.yaxis.label.set_fontsize(18)\n",
    "    graph_title = title\n",
    "    plt.title(graph_title, fontsize = 20, fontweight = 'bold')\n",
    "    graph_title_for_save = save\n",
    "    plt.savefig('Car_Accident_Charts/'+ graph_title_for_save + '.png')\n",
    "    plt.show()"
   ]
  },
  {
   "cell_type": "code",
   "execution_count": 15,
   "metadata": {},
   "outputs": [
    {
     "name": "stdout",
     "output_type": "stream",
     "text": [
      "Clear                       111008\n",
      "Raining                      33117\n",
      "Overcast                     27681\n",
      "Unknown                      15039\n",
      "Snowing                        901\n",
      "Other                          824\n",
      "Fog/Smog/Smoke                 569\n",
      "Sleet/Hail/Freezing Rain       113\n",
      "Blowing Sand/Dirt               55\n",
      "Severe Crosswind                25\n",
      "Partly Cloudy                    5\n",
      "Name: WEATHER, dtype: int64\n"
     ]
    },
    {
     "data": {
      "image/png": "[encoded data removed]",
      "text/plain": [
       "<Figure size 1080x504 with 1 Axes>"
      ]
     },
     "metadata": {
      "needs_background": "light"
     },
     "output_type": "display_data"
    }
   ],
   "source": [
    "weather = accidents.WEATHER.value_counts()\n",
    "print(weather)\n",
    "create_barh_plot(weather, 'Weather Type Counts', 'weather_counts', 'darkred')"
   ]
  },
  {
   "cell_type": "markdown",
   "metadata": {},
   "source": [
    "Perfect. Now, we see that the **WEATHER** column has 11 different options for values. We can see that the option for a 'Clear' with 1,11,135 weather patterns is more prevelant, with 'Rain' being at 33,145 next following closely with 'Overcast' with 27,714. Okay, lets move on to the next column. "
   ]
  },
  {
   "cell_type": "code",
   "execution_count": 18,
   "metadata": {},
   "outputs": [
    {
     "name": "stdout",
     "output_type": "stream",
     "text": [
      "Dry               124300\n",
      "Wet                47417\n",
      "Unknown            15031\n",
      "Ice                 1206\n",
      "Snow/Slush           999\n",
      "Other                131\n",
      "Standing Water       115\n",
      "Sand/Mud/Dirt         74\n",
      "Oil                   64\n",
      "Name: ROADCOND, dtype: int64\n"
     ]
    },
    {
     "data": {
      "image/png": "[encoded data removed]",
      "text/plain": [
       "<Figure size 1080x504 with 1 Axes>"
      ]
     },
     "metadata": {
      "needs_background": "light"
     },
     "output_type": "display_data"
    }
   ],
   "source": [
    "roadcond = accidents.ROADCOND.value_counts()\n",
    "print(roadcond)\n",
    "create_barh_plot(roadcond, 'Road Condition Type Counts', 'roadcond_counts', 'darkblue')"
   ]
  },
  {
   "cell_type": "markdown",
   "metadata": {},
   "source": [
    "Now, we see for **ROADCOND** has 9 options for values, with 'Dry' coming in at 124,510 being the most apparent. Moving on..."
   ]
  },
  {
   "cell_type": "code",
   "execution_count": 19,
   "metadata": {},
   "outputs": [
    {
     "name": "stdout",
     "output_type": "stream",
     "text": [
      "Daylight                    116077\n",
      "Dark - Street Lights On      48440\n",
      "Unknown                      13456\n",
      "Dusk                          5889\n",
      "Dawn                          2502\n",
      "Dark - No Street Lights       1535\n",
      "Dark - Street Lights Off      1192\n",
      "Other                          235\n",
      "Dark - Unknown Lighting         11\n",
      "Name: LIGHTCOND, dtype: int64\n"
     ]
    },
    {
     "data": {
      "image/png": "[encoded data removed]",
      "text/plain": [
       "<Figure size 1080x504 with 1 Axes>"
      ]
     },
     "metadata": {
      "needs_background": "light"
     },
     "output_type": "display_data"
    }
   ],
   "source": [
    "lightcond = accidents.LIGHTCOND.value_counts()\n",
    "print(lightcond)\n",
    "create_barh_plot(lightcond, 'Light Condition Type Counts', 'lightcond_counts', 'black')"
   ]
  },
  {
   "cell_type": "markdown",
   "metadata": {},
   "source": [
    "Lastly, we can see all of the values in **LIGHTCOND** in each value. Hmmm, it looks like 'Daylight' is the most prevelant here with 116,137 records. Hm, the hypothesis of a seasonal effect is looking a bit grim. \n",
    "\n",
    "Okay, so now we know the values in each of the columns, let's assign numbers to them. But first, I want to during the **INCDTTM** to a datetime record so I can use the months and the years in separate graphs below. "
   ]
  },
  {
   "cell_type": "code",
   "execution_count": 20,
   "metadata": {},
   "outputs": [],
   "source": [
    "#Change INCDTTM to datetime format for extraction of year and month for new columns. \n",
    "accidents['INCDTTM_dt'] = pd.to_datetime(accidents.INCDTTM)\n",
    "accidents['INCDTTM_year'] = accidents.INCDTTM_dt.dt.year\n",
    "accidents['INCDTTM_month'] = accidents.INCDTTM_dt.dt.month\n",
    "accidents['INCDTTM_year_str'] = accidents.INCDTTM_year.astype(str)\n",
    "accidents['INCDTTM_month_str'] = accidents.INCDTTM_month.astype(str)\n",
    "accidents['INCDTTM_year_month'] = accidents[['INCDTTM_year_str','INCDTTM_month_str']].apply(lambda x: '-'.join(x),axis=1)"
   ]
  },
  {
   "cell_type": "code",
   "execution_count": 21,
   "metadata": {},
   "outputs": [
    {
     "data": {
      "text/html": [
       "<div>\n",
       "<style scoped>\n",
       "    .dataframe tbody tr th:only-of-type {\n",
       "        vertical-align: middle;\n",
       "    }\n",
       "\n",
       "    .dataframe tbody tr th {\n",
       "        vertical-align: top;\n",
       "    }\n",
       "\n",
       "    .dataframe thead th {\n",
       "        text-align: right;\n",
       "    }\n",
       "</style>\n",
       "<table border=\"1\" class=\"dataframe\">\n",
       "  <thead>\n",
       "    <tr style=\"text-align: right;\">\n",
       "      <th></th>\n",
       "      <th>index</th>\n",
       "      <th>SEVERITYCODE</th>\n",
       "      <th>INCDTTM</th>\n",
       "      <th>PERSONCOUNT</th>\n",
       "      <th>PEDCOUNT</th>\n",
       "      <th>PEDCYLCOUNT</th>\n",
       "      <th>VEHCOUNT</th>\n",
       "      <th>WEATHER</th>\n",
       "      <th>ROADCOND</th>\n",
       "      <th>LIGHTCOND</th>\n",
       "      <th>INCDTTM_dt</th>\n",
       "      <th>INCDTTM_year</th>\n",
       "      <th>INCDTTM_month</th>\n",
       "      <th>INCDTTM_year_str</th>\n",
       "      <th>INCDTTM_month_str</th>\n",
       "      <th>INCDTTM_year_month</th>\n",
       "      <th>WEATHER_int</th>\n",
       "      <th>ROADCOND_int</th>\n",
       "      <th>LIGHTCOND_int</th>\n",
       "      <th>SEATTLE_SEASONS</th>\n",
       "    </tr>\n",
       "  </thead>\n",
       "  <tbody>\n",
       "    <tr>\n",
       "      <th>0</th>\n",
       "      <td>0</td>\n",
       "      <td>2</td>\n",
       "      <td>3/27/2013 2:54:00 PM</td>\n",
       "      <td>2</td>\n",
       "      <td>0</td>\n",
       "      <td>0</td>\n",
       "      <td>2</td>\n",
       "      <td>Overcast</td>\n",
       "      <td>Wet</td>\n",
       "      <td>Daylight</td>\n",
       "      <td>2013-03-27 14:54:00</td>\n",
       "      <td>2013</td>\n",
       "      <td>3</td>\n",
       "      <td>2013</td>\n",
       "      <td>3</td>\n",
       "      <td>2013-3</td>\n",
       "      <td>1</td>\n",
       "      <td>1</td>\n",
       "      <td>1</td>\n",
       "      <td>Spring</td>\n",
       "    </tr>\n",
       "    <tr>\n",
       "      <th>1</th>\n",
       "      <td>1</td>\n",
       "      <td>1</td>\n",
       "      <td>12/20/2006 6:55:00 PM</td>\n",
       "      <td>2</td>\n",
       "      <td>0</td>\n",
       "      <td>0</td>\n",
       "      <td>2</td>\n",
       "      <td>Raining</td>\n",
       "      <td>Wet</td>\n",
       "      <td>Dark - Street Lights On</td>\n",
       "      <td>2006-12-20 18:55:00</td>\n",
       "      <td>2006</td>\n",
       "      <td>12</td>\n",
       "      <td>2006</td>\n",
       "      <td>12</td>\n",
       "      <td>2006-12</td>\n",
       "      <td>2</td>\n",
       "      <td>1</td>\n",
       "      <td>2</td>\n",
       "      <td>Winter</td>\n",
       "    </tr>\n",
       "    <tr>\n",
       "      <th>2</th>\n",
       "      <td>2</td>\n",
       "      <td>1</td>\n",
       "      <td>11/18/2004 10:20:00 AM</td>\n",
       "      <td>4</td>\n",
       "      <td>0</td>\n",
       "      <td>0</td>\n",
       "      <td>3</td>\n",
       "      <td>Overcast</td>\n",
       "      <td>Dry</td>\n",
       "      <td>Daylight</td>\n",
       "      <td>2004-11-18 10:20:00</td>\n",
       "      <td>2004</td>\n",
       "      <td>11</td>\n",
       "      <td>2004</td>\n",
       "      <td>11</td>\n",
       "      <td>2004-11</td>\n",
       "      <td>1</td>\n",
       "      <td>2</td>\n",
       "      <td>1</td>\n",
       "      <td>Fall</td>\n",
       "    </tr>\n",
       "    <tr>\n",
       "      <th>3</th>\n",
       "      <td>3</td>\n",
       "      <td>1</td>\n",
       "      <td>3/29/2013 9:26:00 AM</td>\n",
       "      <td>3</td>\n",
       "      <td>0</td>\n",
       "      <td>0</td>\n",
       "      <td>3</td>\n",
       "      <td>Clear</td>\n",
       "      <td>Dry</td>\n",
       "      <td>Daylight</td>\n",
       "      <td>2013-03-29 09:26:00</td>\n",
       "      <td>2013</td>\n",
       "      <td>3</td>\n",
       "      <td>2013</td>\n",
       "      <td>3</td>\n",
       "      <td>2013-3</td>\n",
       "      <td>3</td>\n",
       "      <td>2</td>\n",
       "      <td>1</td>\n",
       "      <td>Spring</td>\n",
       "    </tr>\n",
       "    <tr>\n",
       "      <th>4</th>\n",
       "      <td>4</td>\n",
       "      <td>2</td>\n",
       "      <td>1/28/2004 8:04:00 AM</td>\n",
       "      <td>2</td>\n",
       "      <td>0</td>\n",
       "      <td>0</td>\n",
       "      <td>2</td>\n",
       "      <td>Raining</td>\n",
       "      <td>Wet</td>\n",
       "      <td>Daylight</td>\n",
       "      <td>2004-01-28 08:04:00</td>\n",
       "      <td>2004</td>\n",
       "      <td>1</td>\n",
       "      <td>2004</td>\n",
       "      <td>1</td>\n",
       "      <td>2004-1</td>\n",
       "      <td>2</td>\n",
       "      <td>1</td>\n",
       "      <td>1</td>\n",
       "      <td>Winter</td>\n",
       "    </tr>\n",
       "  </tbody>\n",
       "</table>\n",
       "</div>"
      ],
      "text/plain": [
       "   index  SEVERITYCODE                 INCDTTM  PERSONCOUNT  PEDCOUNT  \\\n",
       "0      0             2    3/27/2013 2:54:00 PM            2         0   \n",
       "1      1             1   12/20/2006 6:55:00 PM            2         0   \n",
       "2      2             1  11/18/2004 10:20:00 AM            4         0   \n",
       "3      3             1    3/29/2013 9:26:00 AM            3         0   \n",
       "4      4             2    1/28/2004 8:04:00 AM            2         0   \n",
       "\n",
       "   PEDCYLCOUNT  VEHCOUNT   WEATHER ROADCOND                LIGHTCOND  \\\n",
       "0            0         2  Overcast      Wet                 Daylight   \n",
       "1            0         2   Raining      Wet  Dark - Street Lights On   \n",
       "2            0         3  Overcast      Dry                 Daylight   \n",
       "3            0         3     Clear      Dry                 Daylight   \n",
       "4            0         2   Raining      Wet                 Daylight   \n",
       "\n",
       "           INCDTTM_dt  INCDTTM_year  INCDTTM_month INCDTTM_year_str  \\\n",
       "0 2013-03-27 14:54:00          2013              3             2013   \n",
       "1 2006-12-20 18:55:00          2006             12             2006   \n",
       "2 2004-11-18 10:20:00          2004             11             2004   \n",
       "3 2013-03-29 09:26:00          2013              3             2013   \n",
       "4 2004-01-28 08:04:00          2004              1             2004   \n",
       "\n",
       "  INCDTTM_month_str INCDTTM_year_month  WEATHER_int  ROADCOND_int  \\\n",
       "0                 3             2013-3            1             1   \n",
       "1                12            2006-12            2             1   \n",
       "2                11            2004-11            1             2   \n",
       "3                 3             2013-3            3             2   \n",
       "4                 1             2004-1            2             1   \n",
       "\n",
       "   LIGHTCOND_int SEATTLE_SEASONS  \n",
       "0              1          Spring  \n",
       "1              2          Winter  \n",
       "2              1            Fall  \n",
       "3              1          Spring  \n",
       "4              1          Winter  "
      ]
     },
     "execution_count": 21,
     "metadata": {},
     "output_type": "execute_result"
    }
   ],
   "source": [
    "#Convert all column's object values to integers. \n",
    "weather_dict = {'Overcast':1, 'Raining':2, 'Clear':3, 'Other':4, 'Snowing':5,\n",
    "               'Fog/Smog/Smoke':6, 'Sleet/Hail/Freezing Rain':7, 'Blowing Sand/Dirt':8,\n",
    "               'Severe Crosswind':9, 'Partly Cloudy':10}\n",
    "accidents['WEATHER_int'] = accidents.WEATHER.apply(lambda x: weather_dict.get(x)).fillna(0).astype(int)\n",
    "\n",
    "roadcond_dict = {'Wet':1, 'Dry':2, 'Unknown':3, 'Snow/Slush':4, 'Ice':5, 'Other':6,\n",
    "                'Sand/Mud/Dirt':7, 'Standing Water':8, 'Oil':9}\n",
    "accidents['ROADCOND_int'] = accidents.ROADCOND.apply(lambda x: roadcond_dict.get(x)).fillna(0).astype(int)\n",
    "\n",
    "light_dict = {'Daylight':1, 'Dark - Street Lights On':2, 'Dark - No Street Lights':3,\n",
    "             'Unknown':4, 'Dusk':5, 'Dawn':6, 'Dark - Street Lights Off':7,\n",
    "             'Other':8, 'Dark - Unknown Lighting':9}\n",
    "accidents['LIGHTCOND_int'] = accidents.LIGHTCOND.apply(lambda x: light_dict.get(x)).fillna(0).astype(int)\n",
    "\n",
    "#Assign seasons to weather in Seattle, as the seasonality may have an impact on the predictability of accident serverity. \n",
    "seattle_seasons = {12:'Winter', 1:'Winter', 2:'Winter',3:'Spring',4:'Spring',5:'Spring', 6:'Summer',7:'Summer', 8:'Summer',9:'Fall',10:'Fall',11:'Fall'}\n",
    "accidents['SEATTLE_SEASONS'] = accidents.INCDTTM_month .apply(lambda x: seattle_seasons.get(x))\n",
    "\n",
    "#View the first 5 rows\n",
    "accidents[:5]"
   ]
  },
  {
   "cell_type": "markdown",
   "metadata": {},
   "source": [
    "Perfect. Now, lets create a new dataframe with the columns we *think* need for ML predictions."
   ]
  },
  {
   "cell_type": "markdown",
   "metadata": {},
   "source": [
    "## Analysis <a name=\"analysis\"></a>"
   ]
  },
  {
   "cell_type": "code",
   "execution_count": 22,
   "metadata": {},
   "outputs": [
    {
     "data": {
      "text/html": [
       "<div>\n",
       "<style scoped>\n",
       "    .dataframe tbody tr th:only-of-type {\n",
       "        vertical-align: middle;\n",
       "    }\n",
       "\n",
       "    .dataframe tbody tr th {\n",
       "        vertical-align: top;\n",
       "    }\n",
       "\n",
       "    .dataframe thead th {\n",
       "        text-align: right;\n",
       "    }\n",
       "</style>\n",
       "<table border=\"1\" class=\"dataframe\">\n",
       "  <thead>\n",
       "    <tr style=\"text-align: right;\">\n",
       "      <th></th>\n",
       "      <th>SEVERITYCODE</th>\n",
       "      <th>INCDTTM_dt</th>\n",
       "      <th>INCDTTM_year</th>\n",
       "      <th>INCDTTM_month</th>\n",
       "      <th>INCDTTM_year_str</th>\n",
       "      <th>INCDTTM_month_str</th>\n",
       "      <th>INCDTTM_year_month</th>\n",
       "      <th>WEATHER_int</th>\n",
       "      <th>ROADCOND_int</th>\n",
       "      <th>LIGHTCOND_int</th>\n",
       "      <th>SEATTLE_SEASONS</th>\n",
       "    </tr>\n",
       "  </thead>\n",
       "  <tbody>\n",
       "    <tr>\n",
       "      <th>0</th>\n",
       "      <td>2</td>\n",
       "      <td>2013-03-27 14:54:00</td>\n",
       "      <td>2013</td>\n",
       "      <td>3</td>\n",
       "      <td>2013</td>\n",
       "      <td>3</td>\n",
       "      <td>2013-3</td>\n",
       "      <td>1</td>\n",
       "      <td>1</td>\n",
       "      <td>1</td>\n",
       "      <td>Spring</td>\n",
       "    </tr>\n",
       "    <tr>\n",
       "      <th>1</th>\n",
       "      <td>1</td>\n",
       "      <td>2006-12-20 18:55:00</td>\n",
       "      <td>2006</td>\n",
       "      <td>12</td>\n",
       "      <td>2006</td>\n",
       "      <td>12</td>\n",
       "      <td>2006-12</td>\n",
       "      <td>2</td>\n",
       "      <td>1</td>\n",
       "      <td>2</td>\n",
       "      <td>Winter</td>\n",
       "    </tr>\n",
       "    <tr>\n",
       "      <th>2</th>\n",
       "      <td>1</td>\n",
       "      <td>2004-11-18 10:20:00</td>\n",
       "      <td>2004</td>\n",
       "      <td>11</td>\n",
       "      <td>2004</td>\n",
       "      <td>11</td>\n",
       "      <td>2004-11</td>\n",
       "      <td>1</td>\n",
       "      <td>2</td>\n",
       "      <td>1</td>\n",
       "      <td>Fall</td>\n",
       "    </tr>\n",
       "    <tr>\n",
       "      <th>3</th>\n",
       "      <td>1</td>\n",
       "      <td>2013-03-29 09:26:00</td>\n",
       "      <td>2013</td>\n",
       "      <td>3</td>\n",
       "      <td>2013</td>\n",
       "      <td>3</td>\n",
       "      <td>2013-3</td>\n",
       "      <td>3</td>\n",
       "      <td>2</td>\n",
       "      <td>1</td>\n",
       "      <td>Spring</td>\n",
       "    </tr>\n",
       "    <tr>\n",
       "      <th>4</th>\n",
       "      <td>2</td>\n",
       "      <td>2004-01-28 08:04:00</td>\n",
       "      <td>2004</td>\n",
       "      <td>1</td>\n",
       "      <td>2004</td>\n",
       "      <td>1</td>\n",
       "      <td>2004-1</td>\n",
       "      <td>2</td>\n",
       "      <td>1</td>\n",
       "      <td>1</td>\n",
       "      <td>Winter</td>\n",
       "    </tr>\n",
       "  </tbody>\n",
       "</table>\n",
       "</div>"
      ],
      "text/plain": [
       "   SEVERITYCODE          INCDTTM_dt  INCDTTM_year  INCDTTM_month  \\\n",
       "0             2 2013-03-27 14:54:00          2013              3   \n",
       "1             1 2006-12-20 18:55:00          2006             12   \n",
       "2             1 2004-11-18 10:20:00          2004             11   \n",
       "3             1 2013-03-29 09:26:00          2013              3   \n",
       "4             2 2004-01-28 08:04:00          2004              1   \n",
       "\n",
       "  INCDTTM_year_str INCDTTM_month_str INCDTTM_year_month  WEATHER_int  \\\n",
       "0             2013                 3             2013-3            1   \n",
       "1             2006                12            2006-12            2   \n",
       "2             2004                11            2004-11            1   \n",
       "3             2013                 3             2013-3            3   \n",
       "4             2004                 1             2004-1            2   \n",
       "\n",
       "   ROADCOND_int  LIGHTCOND_int SEATTLE_SEASONS  \n",
       "0             1              1          Spring  \n",
       "1             1              2          Winter  \n",
       "2             2              1            Fall  \n",
       "3             2              1          Spring  \n",
       "4             1              1          Winter  "
      ]
     },
     "execution_count": 22,
     "metadata": {},
     "output_type": "execute_result"
    }
   ],
   "source": [
    "#Create new dataframe to create a correlation heatmap of the different variables for prediction.\n",
    "int_cols = ['SEVERITYCODE','INCDTTM_dt', 'INCDTTM_year', 'INCDTTM_month', 'INCDTTM_year_str',\n",
    "       'INCDTTM_month_str', 'INCDTTM_year_month','WEATHER_int', 'ROADCOND_int', 'LIGHTCOND_int', 'SEATTLE_SEASONS']\n",
    "severity = accidents[int_cols]\n",
    "severity[:5]"
   ]
  },
  {
   "cell_type": "markdown",
   "metadata": {},
   "source": [
    "Based on one of the above hypotheses, lets take a look at the SEATTLE_SEASONS column. Lets see how many accidents occurred each year per season."
   ]
  },
  {
   "cell_type": "code",
   "execution_count": 23,
   "metadata": {},
   "outputs": [
    {
     "data": {
      "text/plain": [
       "SEATTLE_SEASONS\n",
       "Fall      98695381\n",
       "Spring    95623925\n",
       "Summer    96847426\n",
       "Winter    89589995\n",
       "Name: INCDTTM_year, dtype: int64"
      ]
     },
     "execution_count": 23,
     "metadata": {},
     "output_type": "execute_result"
    }
   ],
   "source": [
    "seasons  = severity.groupby(['SEATTLE_SEASONS'])['INCDTTM_year'].sum()\n",
    "seasons"
   ]
  },
  {
   "cell_type": "code",
   "execution_count": 30,
   "metadata": {},
   "outputs": [
    {
     "data": {
      "image/png": "[encoded data removed]",
      "text/plain": [
       "<Figure size 1080x360 with 1 Axes>"
      ]
     },
     "metadata": {
      "needs_background": "light"
     },
     "output_type": "display_data"
    }
   ],
   "source": [
    "#Plot these values in a histogram\n",
    "plt.figure(figsize=(15,5))\n",
    "colors = ['red', 'green', 'blue', 'grey']\n",
    "# seasons_df.hist(density = True, histtype = 'bar')\n",
    "severity.groupby(['SEATTLE_SEASONS'])['INCDTTM_year'].hist(density = True, histtype = 'bar', ec='black')\n",
    "plt.grid(False)\n",
    "plt.xlabel('Year', fontsize = 14)\n",
    "plt.ylabel('Frequency by Season', fontsize = 14)\n",
    "plt.title('Frequency of Accidents for Each Seattle Season from 2004-2020', fontsize = 18)\n",
    "plt.legend(['Fall', 'Winter', 'Spring', 'Summer'], title = 'Seattle Seasons')\n",
    "graph_title_save = 'season_hist'\n",
    "plt.savefig('Car_Accident_Charts/' + graph_title_save + '.png')\n",
    "plt.show()"
   ]
  },
  {
   "cell_type": "markdown",
   "metadata": {},
   "source": [
    "Well, that's a bummer. There doesn't appear to be any differences across seasons for the provided data. \n",
    "\n",
    "Now, let's see what values correlate to one another. Maybe this will lead us in a better direction."
   ]
  },
  {
   "cell_type": "code",
   "execution_count": 26,
   "metadata": {},
   "outputs": [
    {
     "data": {
      "image/png": "[encoded data removed]",
      "text/plain": [
       "<Figure size 1080x360 with 2 Axes>"
      ]
     },
     "metadata": {
      "needs_background": "light"
     },
     "output_type": "display_data"
    }
   ],
   "source": [
    "# Create a heatmap based on the Pearson R correlations to each int variable\n",
    "severity_corr = severity[['WEATHER_int', 'ROADCOND_int', 'LIGHTCOND_int']].corr()\n",
    "ax = sns.heatmap(severity_corr, cmap='coolwarm', annot=True, fmt='.1f')\n",
    "ax.figure.set_size_inches(15,5)\n",
    "plt.xlabel('Features')\n",
    "plt.ylabel('Features')\n",
    "ax.xaxis.label.set_fontsize(14)\n",
    "ax.yaxis.label.set_fontsize(14)\n",
    "graph_title = 'Pearson R Correlation for Possible Features'\n",
    "plt.title(graph_title, fontsize = 17)\n",
    "graph_title_save = 'corr_heatmap'\n",
    "plt.savefig('Car_Accident_Charts/' + graph_title_save + '.png')\n",
    "plt.show()"
   ]
  },
  {
   "cell_type": "markdown",
   "metadata": {},
   "source": [
    "Interesting, now we're getting somewhere. It looks like we have our attributes to use for our ML algorithms. HINT: **WEATHER**, **ROADCOND**, and **LIGHTCOND**.\n"
   ]
  },
  {
   "cell_type": "markdown",
   "metadata": {
    "jupyter": {
     "outputs_hidden": true
    }
   },
   "source": [
    "## Prediction <a name=\"prediction\"></a>\n",
    "\n",
    "#### Data Preprocessing\n",
    "In order to use the scikit-learn library, we need to convert the items from Pandas into a Numpy array. \n",
    "* X as the feature vector ('WEATHER', 'ROADCOND', 'LIGHCOND')\n",
    "* y as the predicted variable ('SEVERITYCODE')\n",
    "\n",
    "The question at hand is a classification problem. I will apply the classification algorithms to provide an answer to the stakeholders. The ML algorithms chosen were Decision Tree, K Nearest Neighbor (KNN), and Logistic Regression.  \n"
   ]
  },
  {
   "cell_type": "code",
   "execution_count": 27,
   "metadata": {},
   "outputs": [
    {
     "data": {
      "text/plain": [
       "array([[1, 1, 1],\n",
       "       [2, 1, 2],\n",
       "       [1, 2, 1],\n",
       "       [3, 2, 1],\n",
       "       [2, 1, 1]])"
      ]
     },
     "execution_count": 27,
     "metadata": {},
     "output_type": "execute_result"
    }
   ],
   "source": [
    "X = accidents[['WEATHER_int', 'ROADCOND_int', 'LIGHTCOND_int']].values\n",
    "X[0:5]"
   ]
  },
  {
   "cell_type": "code",
   "execution_count": 28,
   "metadata": {},
   "outputs": [
    {
     "data": {
      "text/plain": [
       "array([[2],\n",
       "       [1],\n",
       "       [1],\n",
       "       [1],\n",
       "       [2]])"
      ]
     },
     "execution_count": 28,
     "metadata": {},
     "output_type": "execute_result"
    }
   ],
   "source": [
    "y = accidents[['SEVERITYCODE']].values\n",
    "y[0:5]"
   ]
  },
  {
   "cell_type": "markdown",
   "metadata": {},
   "source": [
    "Now, lets split these features into train_test_split, using 80% train and 20% test. "
   ]
  },
  {
   "cell_type": "code",
   "execution_count": 31,
   "metadata": {},
   "outputs": [
    {
     "name": "stdout",
     "output_type": "stream",
     "text": [
      "ML for Shift \n",
      "\t X_train: 151469\n",
      "\t y_train: 151469\n",
      "\t X_test: 37868\n",
      "\t y_test: 37868\n",
      "\n"
     ]
    }
   ],
   "source": [
    "from sklearn.model_selection import train_test_split\n",
    "from sklearn import metrics\n",
    "from sklearn.metrics import confusion_matrix, classification_report, jaccard_similarity_score, f1_score\n",
    "\n",
    "X_train, X_test, y_train, y_test = train_test_split(X, y, test_size = 0.2, random_state = 0)\n",
    "shift_ml = 'ML for Shift \\n'\n",
    "shift_ml += '\\t X_train: ' + str(X_train.shape[0]) + '\\n'\n",
    "shift_ml += '\\t y_train: ' + str(y_train.shape[0]) + '\\n'\n",
    "shift_ml += '\\t X_test: ' + str(X_test.shape[0]) + '\\n'\n",
    "shift_ml += '\\t y_test: ' + str(y_test.shape[0]) + '\\n'\n",
    "print(shift_ml)"
   ]
  },
  {
   "cell_type": "code",
   "execution_count": 33,
   "metadata": {},
   "outputs": [],
   "source": [
    "def heatmap_for_confusion(df):\n",
    "    fix,ax = plt.subplots(figsize = (15, 7))\n",
    "    sns.heatmap(df, annot = True, fmt = 'd', cmap= 'Reds')\n",
    "    plt.ylabel('Actual')\n",
    "    plt.xlabel('Predicted')\n",
    "    graph_title = 'Heatmap for Confusion Matrix for Machine Learning Algorithms' \n",
    "    plt.show()    "
   ]
  },
  {
   "cell_type": "markdown",
   "metadata": {},
   "source": [
    "**Decision Tree Classifier**\n",
    "\n",
    "According to the website *TowardsDataScience.com* \"a Decision Tree is a simple representation for classifying examples. It is a Supervised Machine Learning where the data is continuously split according to a certain parameter.\n",
    "Decision Tree consists of :\n",
    "\n",
    "    Nodes : Test for the value of a certain attribute.\n",
    "    Edges/ Branch : Correspond to the outcome of a test and connect to the next node or leaf.\n",
    "    Leaf nodes : Terminal nodes that predict the outcome (represent class labels or class distribution).\"\n",
    "![dt_image.png](attachment:dt_image.png)\n",
    " \n",
    " \n",
    "TowardsDataScience.com (2020) *Decision Tree Classification*. https://towardsdatascience.com/decision-tree-classification-de64fc4d5aac"
   ]
  },
  {
   "cell_type": "code",
   "execution_count": 37,
   "metadata": {},
   "outputs": [
    {
     "name": "stdout",
     "output_type": "stream",
     "text": [
      "DecisionTreeClassifier(class_weight=None, criterion='gini', max_depth=None,\n",
      "            max_features=None, max_leaf_nodes=None,\n",
      "            min_impurity_decrease=0.0, min_impurity_split=None,\n",
      "            min_samples_leaf=1, min_samples_split=2,\n",
      "            min_weight_fraction_leaf=0.0, presort=False, random_state=None,\n",
      "            splitter='best')\n",
      "[[26376    22]\n",
      " [11465     5]]\n",
      "              precision    recall  f1-score   support\n",
      "\n",
      "           1       0.70      1.00      0.82     26398\n",
      "           2       0.19      0.00      0.00     11470\n",
      "\n",
      "   micro avg       0.70      0.70      0.70     37868\n",
      "   macro avg       0.44      0.50      0.41     37868\n",
      "weighted avg       0.54      0.70      0.57     37868\n",
      "\n"
     ]
    },
    {
     "data": {
      "image/png": "[encoded data removed]",
      "text/plain": [
       "<Figure size 1080x504 with 2 Axes>"
      ]
     },
     "metadata": {
      "needs_background": "light"
     },
     "output_type": "display_data"
    }
   ],
   "source": [
    "from sklearn.tree import DecisionTreeClassifier\n",
    "model = DecisionTreeClassifier()\n",
    "print(model)\n",
    "\n",
    "model.fit(X_train, y_train)\n",
    "y_pred_DecisionTree = model.predict(X_test)\n",
    "\n",
    "conf_mat_DecisionTree = confusion_matrix(y_test, y_pred_DecisionTree)\n",
    "print(conf_mat_DecisionTree)\n",
    "\n",
    "class_report = classification_report(y_test, y_pred_DecisionTree)\n",
    "print(class_report)\n",
    "heatmap_for_confusion(conf_mat_DecisionTree)"
   ]
  },
  {
   "cell_type": "markdown",
   "metadata": {},
   "source": [
    "**K Nearest Neighbor (KNN)**\n",
    "\n",
    "The KNN model is a supervised ml, where the data are 'trained' with points that corresond to their classification. Once a point is predicted, the model takes the nearest 'Kth' points to determine classification. "
   ]
  },
  {
   "cell_type": "code",
   "execution_count": 34,
   "metadata": {},
   "outputs": [
    {
     "name": "stdout",
     "output_type": "stream",
     "text": [
      "KNeighborsClassifier(algorithm='auto', leaf_size=30, metric='minkowski',\n",
      "           metric_params=None, n_jobs=None, n_neighbors=3, p=2,\n",
      "           weights='uniform')\n"
     ]
    },
    {
     "name": "stderr",
     "output_type": "stream",
     "text": [
      "/home/jupyterlab/conda/envs/python/lib/python3.6/site-packages/ipykernel_launcher.py:6: DataConversionWarning: A column-vector y was passed when a 1d array was expected. Please change the shape of y to (n_samples, ), for example using ravel().\n",
      "  \n"
     ]
    },
    {
     "name": "stdout",
     "output_type": "stream",
     "text": [
      "[1 1 1 2 1]\n",
      "              precision    recall  f1-score   support\n",
      "\n",
      "           1       0.70      0.84      0.77     26398\n",
      "           2       0.33      0.18      0.23     11470\n",
      "\n",
      "   micro avg       0.64      0.64      0.64     37868\n",
      "   macro avg       0.52      0.51      0.50     37868\n",
      "weighted avg       0.59      0.64      0.60     37868\n",
      "\n"
     ]
    },
    {
     "data": {
      "image/png": "[encoded data removed]",
      "text/plain": [
       "<Figure size 1080x504 with 2 Axes>"
      ]
     },
     "metadata": {
      "needs_background": "light"
     },
     "output_type": "display_data"
    }
   ],
   "source": [
    "from sklearn.neighbors import KNeighborsClassifier as KNN\n",
    "\n",
    "model = KNN(n_neighbors = 3)\n",
    "print(model)\n",
    "\n",
    "model.fit(X_train, y_train)\n",
    "y_pred_knn = model.predict(X_test)\n",
    "print(y_pred_knn[:5])\n",
    "\n",
    "conf_mat = confusion_matrix(y_test, y_pred_knn)\n",
    "\n",
    "class_report = classification_report(y_test, y_pred_knn)\n",
    "print(class_report)\n",
    "heatmap_for_confusion(conf_mat)"
   ]
  },
  {
   "cell_type": "markdown",
   "metadata": {},
   "source": [
    "**Logistic Regression**\n",
    "\n",
    "According to *GeeksforGeeks.com*, \"a Logistic regression is basically a supervised classification algorithm. In a classification problem, the target variable(or output), y, can take only discrete values for given set of features(or inputs), X. Contrary to popular belief, logistic regression IS a regression model. The model builds a regression model to predict the probability that a given data entry belongs to the category numbered as “1”. Just like Linear regression assumes that the data follows a linear function, Logistic regression models the data using the sigmoid function.\"\n",
    "\n",
    "Geeksforgeeks.org (2020) *Understanding Logistic Regression*. https://www.geeksforgeeks.org/understanding-logistic-regression/"
   ]
  },
  {
   "cell_type": "code",
   "execution_count": 35,
   "metadata": {},
   "outputs": [
    {
     "name": "stdout",
     "output_type": "stream",
     "text": [
      "LogisticRegression(C=1.0, class_weight=None, dual=False, fit_intercept=True,\n",
      "          intercept_scaling=1, max_iter=100, multi_class='warn',\n",
      "          n_jobs=None, penalty='l2', random_state=None, solver='warn',\n",
      "          tol=0.0001, verbose=0, warm_start=False)\n"
     ]
    },
    {
     "name": "stderr",
     "output_type": "stream",
     "text": [
      "/home/jupyterlab/conda/envs/python/lib/python3.6/site-packages/sklearn/linear_model/logistic.py:433: FutureWarning: Default solver will be changed to 'lbfgs' in 0.22. Specify a solver to silence this warning.\n",
      "  FutureWarning)\n",
      "/home/jupyterlab/conda/envs/python/lib/python3.6/site-packages/sklearn/utils/validation.py:761: DataConversionWarning: A column-vector y was passed when a 1d array was expected. Please change the shape of y to (n_samples, ), for example using ravel().\n",
      "  y = column_or_1d(y, warn=True)\n"
     ]
    },
    {
     "name": "stdout",
     "output_type": "stream",
     "text": [
      "              precision    recall  f1-score   support\n",
      "\n",
      "           1       0.70      1.00      0.82     26398\n",
      "           2       0.42      0.00      0.00     11470\n",
      "\n",
      "   micro avg       0.70      0.70      0.70     37868\n",
      "   macro avg       0.56      0.50      0.41     37868\n",
      "weighted avg       0.61      0.70      0.57     37868\n",
      "\n"
     ]
    },
    {
     "data": {
      "image/png": "[encoded data removed]",
      "text/plain": [
       "<Figure size 1080x504 with 2 Axes>"
      ]
     },
     "metadata": {
      "needs_background": "light"
     },
     "output_type": "display_data"
    }
   ],
   "source": [
    "from sklearn.linear_model import LogisticRegression\n",
    "model = LogisticRegression()\n",
    "print(model)\n",
    "model.fit(X_train, y_train)\n",
    "y_pred_logReg = model.predict(X_test)\n",
    "# print(y_pred_logReg)\n",
    "\n",
    "conf_mat_logReg = confusion_matrix(y_test, y_pred_logReg)\n",
    "class_report = classification_report(y_test, y_pred_logReg)\n",
    "print(class_report)\n",
    "\n",
    "heatmap_for_confusion(conf_mat_logReg)"
   ]
  },
  {
   "cell_type": "markdown",
   "metadata": {},
   "source": [
    "## Results and Evaluation <a name=\"results\"></a>\n",
    "\n"
   ]
  },
  {
   "cell_type": "markdown",
   "metadata": {},
   "source": [
    "You may be asking yourself, \"How do I interpret these output measures?\". The definitions are listed here:\n",
    "\n",
    "According to machinelearningmastery.com(2020) and statisticshowto.com(2020):\n",
    "\n",
    "* **Precision** quantifies the number of positive class predictions that actually belong to the positive class.\n",
    "* **Recall** quantifies the number of positive class predictions made out of all positive examples in the dataset.\n",
    "* **F-Measure** provides a single score that balances both the concerns of precision and recall in one number.\n",
    "* **Jaccard Index** compares members for two sets to see which members are shared and which are distinct. It’s a measure of similarity for the two sets of data, with a range from 0% to 100%. The higher the percentage, the more similar the two populations. \n",
    "\n",
    "\n",
    "References:\n",
    "Machinelearningmasterty.com(2020).*How to Calculate Precision, Recall, and F-Measure for Imbalanced Classification*.      https://machinelearningmastery.com/precision-recall-and-f-measure-for-imbalanced-classification/\n",
    "\n",
    "Statisticshowto.com(2020). *What is a Jaccard Index?*. https://www.statisticshowto.com/jaccard-index/"
   ]
  },
  {
   "cell_type": "code",
   "execution_count": 39,
   "metadata": {},
   "outputs": [
    {
     "name": "stdout",
     "output_type": "stream",
     "text": [
      "Jaccard and F1 Scores \n",
      "\t Decision Trees Scores: \n",
      "\t\t f1 score: 0.5727151085624445\n",
      "\t\t jaccard score: 0.6966568078588782\n",
      "\n",
      "\t KNN Scores: \n",
      "\t\t f1 score: 0.6037758612768445\n",
      "\t\t jaccard score: 0.6404087884229429\n",
      "\n",
      "\t Logistic Regression Scores: \n",
      "\t\t f1 score: 0.5736090093999446\n",
      "\t\t jaccard score: 0.6968944755466356\n",
      "\n",
      "\n"
     ]
    }
   ],
   "source": [
    "#This block of code will provide the Jaccard and F1 Scores for each algorithm's performance\n",
    "ml_output_scores = 'Jaccard and F1 Scores \\n'\n",
    "ml_output_scores += '\\t Decision Trees Scores: ' + '\\n'\n",
    "ml_output_scores += '\\t\\t f1 score: ' +  str(f1_score(y_test, y_pred_DecisionTree, average='weighted'))+ '\\n'\n",
    "ml_output_scores += '\\t\\t jaccard score: ' +  str(jaccard_similarity_score(y_test, y_pred_DecisionTree))+ '\\n'\n",
    "ml_output_scores += '\\n'\n",
    "ml_output_scores += '\\t KNN Scores: ' + '\\n'\n",
    "ml_output_scores += '\\t\\t f1 score: ' +  str(f1_score(y_test, y_pred_knn, average='weighted')) + '\\n'\n",
    "ml_output_scores += '\\t\\t jaccard score: ' +  str(jaccard_similarity_score(y_test, y_pred_knn)) +'\\n'\n",
    "ml_output_scores += '\\n'\n",
    "ml_output_scores += '\\t Logistic Regression Scores: ' + '\\n'\n",
    "ml_output_scores += '\\t\\t f1 score: ' +  str(f1_score(y_test, y_pred_logReg, average='weighted')) + '\\n'\n",
    "ml_output_scores += '\\t\\t jaccard score: ' +  str(jaccard_similarity_score(y_test, y_pred_logReg))+ '\\n'\n",
    "ml_output_scores += '\\n'\n",
    "print(ml_output_scores)"
   ]
  },
  {
   "cell_type": "code",
   "execution_count": 40,
   "metadata": {
    "collapsed": true,
    "jupyter": {
     "outputs_hidden": true
    }
   },
   "outputs": [
    {
     "name": "stderr",
     "output_type": "stream",
     "text": [
      "/home/jupyterlab/conda/envs/python/lib/python3.6/site-packages/sklearn/model_selection/_validation.py:528: DataConversionWarning: A column-vector y was passed when a 1d array was expected. Please change the shape of y to (n_samples, ), for example using ravel().\n",
      "  estimator.fit(X_train, y_train, **fit_params)\n",
      "/home/jupyterlab/conda/envs/python/lib/python3.6/site-packages/sklearn/model_selection/_validation.py:528: DataConversionWarning: A column-vector y was passed when a 1d array was expected. Please change the shape of y to (n_samples, ), for example using ravel().\n",
      "  estimator.fit(X_train, y_train, **fit_params)\n",
      "/home/jupyterlab/conda/envs/python/lib/python3.6/site-packages/sklearn/model_selection/_validation.py:528: DataConversionWarning: A column-vector y was passed when a 1d array was expected. Please change the shape of y to (n_samples, ), for example using ravel().\n",
      "  estimator.fit(X_train, y_train, **fit_params)\n",
      "/home/jupyterlab/conda/envs/python/lib/python3.6/site-packages/sklearn/model_selection/_validation.py:528: DataConversionWarning: A column-vector y was passed when a 1d array was expected. Please change the shape of y to (n_samples, ), for example using ravel().\n",
      "  estimator.fit(X_train, y_train, **fit_params)\n",
      "/home/jupyterlab/conda/envs/python/lib/python3.6/site-packages/sklearn/model_selection/_validation.py:528: DataConversionWarning: A column-vector y was passed when a 1d array was expected. Please change the shape of y to (n_samples, ), for example using ravel().\n",
      "  estimator.fit(X_train, y_train, **fit_params)\n",
      "/home/jupyterlab/conda/envs/python/lib/python3.6/site-packages/sklearn/linear_model/logistic.py:433: FutureWarning: Default solver will be changed to 'lbfgs' in 0.22. Specify a solver to silence this warning.\n",
      "  FutureWarning)\n",
      "/home/jupyterlab/conda/envs/python/lib/python3.6/site-packages/sklearn/utils/validation.py:761: DataConversionWarning: A column-vector y was passed when a 1d array was expected. Please change the shape of y to (n_samples, ), for example using ravel().\n",
      "  y = column_or_1d(y, warn=True)\n",
      "/home/jupyterlab/conda/envs/python/lib/python3.6/site-packages/sklearn/linear_model/logistic.py:433: FutureWarning: Default solver will be changed to 'lbfgs' in 0.22. Specify a solver to silence this warning.\n",
      "  FutureWarning)\n",
      "/home/jupyterlab/conda/envs/python/lib/python3.6/site-packages/sklearn/utils/validation.py:761: DataConversionWarning: A column-vector y was passed when a 1d array was expected. Please change the shape of y to (n_samples, ), for example using ravel().\n",
      "  y = column_or_1d(y, warn=True)\n",
      "/home/jupyterlab/conda/envs/python/lib/python3.6/site-packages/sklearn/linear_model/logistic.py:433: FutureWarning: Default solver will be changed to 'lbfgs' in 0.22. Specify a solver to silence this warning.\n",
      "  FutureWarning)\n",
      "/home/jupyterlab/conda/envs/python/lib/python3.6/site-packages/sklearn/utils/validation.py:761: DataConversionWarning: A column-vector y was passed when a 1d array was expected. Please change the shape of y to (n_samples, ), for example using ravel().\n",
      "  y = column_or_1d(y, warn=True)\n",
      "/home/jupyterlab/conda/envs/python/lib/python3.6/site-packages/sklearn/linear_model/logistic.py:433: FutureWarning: Default solver will be changed to 'lbfgs' in 0.22. Specify a solver to silence this warning.\n",
      "  FutureWarning)\n",
      "/home/jupyterlab/conda/envs/python/lib/python3.6/site-packages/sklearn/utils/validation.py:761: DataConversionWarning: A column-vector y was passed when a 1d array was expected. Please change the shape of y to (n_samples, ), for example using ravel().\n",
      "  y = column_or_1d(y, warn=True)\n",
      "/home/jupyterlab/conda/envs/python/lib/python3.6/site-packages/sklearn/linear_model/logistic.py:433: FutureWarning: Default solver will be changed to 'lbfgs' in 0.22. Specify a solver to silence this warning.\n",
      "  FutureWarning)\n",
      "/home/jupyterlab/conda/envs/python/lib/python3.6/site-packages/sklearn/utils/validation.py:761: DataConversionWarning: A column-vector y was passed when a 1d array was expected. Please change the shape of y to (n_samples, ), for example using ravel().\n",
      "  y = column_or_1d(y, warn=True)\n"
     ]
    }
   ],
   "source": [
    "#Lets see how the models performed\n",
    "from sklearn.model_selection import cross_validate, cross_val_score\n",
    "\n",
    "models = [\n",
    "          KNN(),\n",
    "          LogisticRegression(),\n",
    "          DecisionTreeClassifier()\n",
    "]\n",
    "CV=5\n",
    "cv_df = pd.DataFrame(index = range(CV*len(models)))\n",
    "entries = []\n",
    "for model in models:\n",
    "    model_name = model.__class__.__name__\n",
    "    accuracies = cross_val_score(model, X, y, scoring = 'accuracy', cv = CV)\n",
    "    for fold_idx, accuracy in enumerate(accuracies):\n",
    "        entries.append((model_name, fold_idx, accuracy))\n",
    "    cv_df = pd.DataFrame(entries, columns = ['model_name', 'fold_idx', 'accuracy'])"
   ]
  },
  {
   "cell_type": "code",
   "execution_count": 41,
   "metadata": {},
   "outputs": [
    {
     "data": {
      "text/plain": [
       "model_name\n",
       "DecisionTreeClassifier    0.698437\n",
       "KNeighborsClassifier      0.685582\n",
       "LogisticRegression        0.697983\n",
       "Name: accuracy, dtype: float64"
      ]
     },
     "execution_count": 41,
     "metadata": {},
     "output_type": "execute_result"
    }
   ],
   "source": [
    "#Now, lets gather the average accuracy across Decision Tree, KNN, and Logistic Regression\n",
    "cv_df.groupby('model_name').accuracy.mean()"
   ]
  },
  {
   "cell_type": "code",
   "execution_count": 42,
   "metadata": {
    "collapsed": true,
    "jupyter": {
     "outputs_hidden": true
    }
   },
   "outputs": [
    {
     "data": {
      "image/png": "[encoded data removed]",
      "text/plain": [
       "<Figure size 1080x360 with 1 Axes>"
      ]
     },
     "metadata": {
      "needs_background": "light"
     },
     "output_type": "display_data"
    }
   ],
   "source": [
    "#Box-Whisker Plot of the outputs of the models used above.\n",
    "f, ax = plt.subplots(figsize = (15,5))\n",
    "ax = sns.boxplot(x = 'model_name', y = 'accuracy', data = cv_df, palette='viridis')\n",
    "ax = sns.stripplot(x = 'model_name', y= 'accuracy', data= cv_df, size = 8, jitter = True, color = 'grey',\n",
    "                   edgecolor = 'black', linewidth = 2)\n",
    "plt.title ('Box and Whisker Plot of Machine Learning Performance', fontsize = 20, fontweight = 'bold')\n",
    "ax.set_xlabel('Machine Learning Technique', fontsize = 14)\n",
    "ax.set_ylabel('Accuracy', fontsize = 14)\n",
    "graph_title_for_save = ('box_whisker_plot_ML_perf_')\n",
    "plt.savefig('Car_Accident_Charts/'+ graph_title_for_save + '.png', dpi = 400, bbox_inches = None)\n",
    "plt.show()"
   ]
  },
  {
   "cell_type": "markdown",
   "metadata": {},
   "source": [
    "## Discussion <a name=\"discussion\"></a>"
   ]
  },
  {
   "cell_type": "markdown",
   "metadata": {},
   "source": [
    "In the results above, we used Decision Tree, KNN, and Logisitic Regression to attempt to solve our question for the local government officials of Seattle, Washington. In chosing a Kth value of 3 really improved the accuracy, up to 68.5% accuracy in predicting the severity level. However, Decision Tree accuracy was at 69.8% compared to Logistic Regression, which was at 69.7% accuracy of predicting traffic severity levels in Seattle. "
   ]
  },
  {
   "cell_type": "markdown",
   "metadata": {},
   "source": [
    "## Conclusion <a name=\"conclusion\"></a>"
   ]
  },
  {
   "cell_type": "markdown",
   "metadata": {},
   "source": [
    "By using the sample historical collision data, I chose to use the environmental conditions (i.e., weather, road, and light conditions) that were associated with severity level of accidents in Seattle. I created a machine learning model based on classification algorithms to predict traffic accident severity in Seattle. I would recommend using a Decision Tree or Logistic Regression for prediction of severity levels. "
   ]
  }
 ],
 "metadata": {
  "kernelspec": {
   "display_name": "Python",
   "language": "python",
   "name": "conda-env-python-py"
  },
  "language_info": {
   "codemirror_mode": {
    "name": "ipython",
    "version": 3
   },
   "file_extension": ".py",
   "mimetype": "text/x-python",
   "name": "python",
   "nbconvert_exporter": "python",
   "pygments_lexer": "ipython3",
   "version": "3.6.11"
  }
 },
 "nbformat": 4,
 "nbformat_minor": 4
}
